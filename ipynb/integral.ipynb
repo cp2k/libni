{
  "cells": [
    {
      "cell_type": "code",
      "source": [
        "import scipy.integrate as integrate\n",
        "import numpy as np\n",
        "import matplotlib.pyplot as plt"
      ],
      "outputs": [],
      "execution_count": 2,
      "metadata": {
        "collapsed": false,
        "outputHidden": false,
        "inputHidden": false
      }
    },
    {
      "cell_type": "code",
      "source": [
        "def kinetic(x, y, z):\n",
        "    r2 = x*x+y*y+z*z\n",
        "    a = 1.0\n",
        "    b = 1.0\n",
        "    return np.exp(-(a+b)*r2)*(4*b*b*r2-6)*(-0.5)"
      ],
      "outputs": [],
      "execution_count": 9,
      "metadata": {
        "collapsed": false,
        "outputHidden": false,
        "inputHidden": false
      }
    },
    {
      "cell_type": "code",
      "source": [
        "integrate.nquad(kinetic, ([-np.inf, +np.inf],)*3)"
      ],
      "outputs": [
        {
          "output_type": "execute_result",
          "execution_count": 10,
          "data": {
            "text/plain": [
              "(2.953051864823921, 3.7879371924592486e-08)"
            ]
          },
          "metadata": {}
        }
      ],
      "execution_count": 10,
      "metadata": {
        "collapsed": false,
        "outputHidden": false,
        "inputHidden": false
      }
    },
    {
      "cell_type": "code",
      "source": [
        "a = np.loadtxt('./kin_r_y1_y2')\n",
        "r = a[:,0]\n",
        "y1 = a[:,1]\n",
        "y2 = a[:,2]\n",
        "\n",
        "plt.figure(figsize=(12, 6))\n",
        "plt.plot(r, kinetic(r, 0, 0))\n",
        "\n",
        "plt.grid()\n",
        "plt.xlim(0, 2)\n",
        "plt.legend()\n",
        "plt.axhline(0, color='#333333')"
      ],
      "outputs": [
        {
          "output_type": "execute_result",
          "execution_count": 11,
          "data": {
            "text/plain": [
              "<matplotlib.lines.Line2D at 0x106fc9150>"
            ]
          },
          "metadata": {}
        },
        {
          "output_type": "display_data",
          "data": {
            "image/png": "[encoded data removed]",
            "text/plain": [
              "<matplotlib.figure.Figure at 0x106cf1890>"
            ]
          },
          "metadata": {
            "needs_background": "light"
          }
        }
      ],
      "execution_count": 11,
      "metadata": {
        "collapsed": false,
        "outputHidden": false,
        "inputHidden": false
      }
    },
    {
      "cell_type": "code",
      "source": [
        "np.sum(kinetic(r, 0, 0))*(r[1]-r[0])"
      ],
      "outputs": [
        {
          "output_type": "execute_result",
          "execution_count": 12,
          "data": {
            "text/plain": [
              "1.6116586864666613"
            ]
          },
          "metadata": {}
        }
      ],
      "execution_count": 12,
      "metadata": {
        "collapsed": false,
        "outputHidden": false,
        "inputHidden": false
      }
    },
    {
      "cell_type": "code",
      "source": [
        "a = 1.0\n",
        "b = 1.0\n",
        "3.0*b*np.power(np.pi/(a+b), 1.5) - 3.0*b**2*np.sqrt(np.pi**3/(a+b)**5)"
      ],
      "outputs": [
        {
          "output_type": "execute_result",
          "execution_count": 13,
          "data": {
            "text/plain": [
              "2.9530518648229536"
            ]
          },
          "metadata": {}
        }
      ],
      "execution_count": 13,
      "metadata": {
        "collapsed": false,
        "outputHidden": false,
        "inputHidden": false
      }
    },
    {
      "cell_type": "code",
      "source": [
        "def gaussian(x, y, z):\n",
        "    radius = np.linalg.norm((x,y,z))\n",
        "    return np.exp(-radius*radius)"
      ],
      "outputs": [],
      "execution_count": 4,
      "metadata": {
        "collapsed": false,
        "outputHidden": false,
        "inputHidden": false
      }
    },
    {
      "cell_type": "code",
      "source": [
        "%time\n",
        "integrate.nquad(gaussian2, ([-np.inf, +np.inf],)*3)"
      ],
      "outputs": [
        {
          "output_type": "execute_result",
          "execution_count": 5,
          "data": {
            "text/plain": [
              "(0.4392766236829998, 1.4897881241611791e-08)"
            ]
          },
          "metadata": {}
        }
      ],
      "execution_count": 5,
      "metadata": {
        "collapsed": false,
        "outputHidden": false,
        "inputHidden": false
      }
    },
    {
      "cell_type": "code",
      "source": [
        "def gaussian2(x, y, z):\n",
        "    radius1 = np.linalg.norm((x,y,z))\n",
        "    radius2 = np.linalg.norm((x-1,y-1,z-1))\n",
        "    return np.exp(-radius1**2)*np.exp(-radius2**2)\n",
        "\n",
        "# Two center integral\n",
        "def gaussian3(x, y, z):\n",
        "    radius1 = np.linalg.norm((x,y,z))\n",
        "    radius2 = np.linalg.norm((x-1,y-1,z-1))\n",
        "    return np.exp(-radius1**2)*np.exp(-0.5*radius2**2)\n",
        "\n",
        "# Three center integral\n",
        "def gaussian4(x, y, z):\n",
        "    radius1 = np.linalg.norm((x,y,z))\n",
        "    radius2 = np.linalg.norm((x-1,y-1,z-1))\n",
        "    radius3 = np.linalg.norm((x,y-2,z))\n",
        "    return np.exp(-radius1**2)*np.exp(-0.5*radius2**2)*np.exp(-0.5*radius3**2)"
      ],
      "outputs": [],
      "execution_count": 15,
      "metadata": {
        "collapsed": false,
        "outputHidden": false,
        "inputHidden": false
      }
    },
    {
      "cell_type": "code",
      "source": [
        "%time integrate.nquad(gaussian3, ([-np.inf, +np.inf],)*3,\\\n",
        "                      opts={'epsabs': 0.0001})\n",
        "# 1.115?"
      ],
      "outputs": [
        {
          "output_type": "stream",
          "name": "stdout",
          "text": [
            "CPU times: user 24.7 s, sys: 108 ms, total: 24.8 s\n",
            "Wall time: 24.9 s\n"
          ]
        },
        {
          "output_type": "execute_result",
          "execution_count": 10,
          "data": {
            "text/plain": [
              "(1.1150476593775354, 9.949291755814715e-05)"
            ]
          },
          "metadata": {}
        }
      ],
      "execution_count": 10,
      "metadata": {
        "collapsed": false,
        "outputHidden": false,
        "inputHidden": false
      }
    },
    {
      "cell_type": "code",
      "source": [
        "%time integrate.nquad(gaussian4, ([-np.inf, +np.inf],)*3)\n",
        "# 0.23500255662545222"
      ],
      "outputs": [
        {
          "output_type": "stream",
          "name": "stdout",
          "text": [
            "CPU times: user 1min 39s, sys: 617 ms, total: 1min 39s\n",
            "Wall time: 1min 41s\n"
          ]
        },
        {
          "output_type": "execute_result",
          "execution_count": 20,
          "data": {
            "text/plain": [
              "(0.23512783310361243, 1.4891088215805703e-08)"
            ]
          },
          "metadata": {}
        }
      ],
      "execution_count": 20,
      "metadata": {
        "collapsed": false,
        "outputHidden": false,
        "inputHidden": false
      }
    },
    {
      "cell_type": "code",
      "source": [
        "0.23529925750848760/0.03822915106223546"
      ],
      "outputs": [
        {
          "output_type": "execute_result",
          "execution_count": 10,
          "data": {
            "text/plain": [
              "6.154969466243973"
            ]
          },
          "metadata": {}
        }
      ],
      "execution_count": 10,
      "metadata": {
        "collapsed": false,
        "outputHidden": false,
        "inputHidden": false
      }
    },
    {
      "cell_type": "code",
      "source": [
        "5.568327996830833/0.44311346272644436"
      ],
      "outputs": [
        {
          "output_type": "execute_result",
          "execution_count": 13,
          "data": {
            "text/plain": [
              "12.566370614355344"
            ]
          },
          "metadata": {}
        }
      ],
      "execution_count": 13,
      "metadata": {
        "collapsed": false,
        "outputHidden": false,
        "inputHidden": false
      }
    },
    {
      "cell_type": "code",
      "source": [
        "12.566370614355344/np.pi"
      ],
      "outputs": [
        {
          "output_type": "execute_result",
          "execution_count": 14,
          "data": {
            "text/plain": [
              "3.9999999999987814"
            ]
          },
          "metadata": {}
        }
      ],
      "execution_count": 14,
      "metadata": {
        "collapsed": false,
        "outputHidden": false,
        "inputHidden": false
      }
    },
    {
      "cell_type": "code",
      "source": [
        "integrate.quad(gauss_1d, 0, +np.inf)"
      ],
      "outputs": [
        {
          "output_type": "execute_result",
          "execution_count": 25,
          "data": {
            "text/plain": [
              "(0.8862269254527579, 7.101318390472462e-09)"
            ]
          },
          "metadata": {}
        }
      ],
      "execution_count": 25,
      "metadata": {
        "collapsed": false,
        "outputHidden": false,
        "inputHidden": false
      }
    },
    {
      "cell_type": "code",
      "source": [
        "def gauss_1d(x):\n",
        "    return np.exp(-x**2)"
      ],
      "outputs": [],
      "execution_count": 26,
      "metadata": {
        "collapsed": false,
        "outputHidden": false,
        "inputHidden": false
      }
    },
    {
      "cell_type": "code",
      "source": [
        "x_axis = np.linspace(0, 5, 10000)\n",
        "plt.plot(x_axis, gauss_1d(x_axis))"
      ],
      "outputs": [
        {
          "output_type": "execute_result",
          "execution_count": 33,
          "data": {
            "text/plain": [
              "[<matplotlib.lines.Line2D at 0x1124286d0>]"
            ]
          },
          "metadata": {}
        },
        {
          "output_type": "display_data",
          "data": {
            "image/png": "[encoded data removed]",
            "text/plain": [
              "<matplotlib.figure.Figure at 0x10f1c7dd0>"
            ]
          },
          "metadata": {
            "needs_background": "light"
          }
        }
      ],
      "execution_count": 33,
      "metadata": {
        "collapsed": false,
        "outputHidden": false,
        "inputHidden": false
      }
    },
    {
      "cell_type": "code",
      "source": [
        "np.sum(gauss_1d(x_axis))*(x_axis[1]-x_axis[0])"
      ],
      "outputs": [
        {
          "output_type": "execute_result",
          "execution_count": 34,
          "data": {
            "text/plain": [
              "0.88647695045389929"
            ]
          },
          "metadata": {}
        }
      ],
      "execution_count": 34,
      "metadata": {
        "collapsed": false,
        "outputHidden": false,
        "inputHidden": false
      }
    },
    {
      "cell_type": "code",
      "source": [],
      "outputs": [],
      "execution_count": null,
      "metadata": {
        "collapsed": false,
        "outputHidden": false,
        "inputHidden": false
      }
    }
  ],
  "metadata": {
    "kernel_info": {
      "name": "python2"
    },
    "language_info": {
      "mimetype": "text/x-python",
      "nbconvert_exporter": "python",
      "name": "python",
      "pygments_lexer": "ipython2",
      "version": "2.7.15",
      "file_extension": ".py",
      "codemirror_mode": {
        "version": 2,
        "name": "ipython"
      }
    },
    "kernelspec": {
      "name": "python2",
      "language": "python",
      "display_name": "Python 2"
    },
    "nteract": {
      "version": "0.11.7"
    }
  },
  "nbformat": 4,
  "nbformat_minor": 4
}